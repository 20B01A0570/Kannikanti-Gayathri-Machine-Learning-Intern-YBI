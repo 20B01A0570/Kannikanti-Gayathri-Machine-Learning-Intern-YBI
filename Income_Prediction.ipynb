{
  "cells": [
    {
      "cell_type": "markdown",
      "metadata": {
        "id": "view-in-github",
        "colab_type": "text"
      },
      "source": [
        "<a href=\"https://colab.research.google.com/github/20B01A0570/Kannikanti-Gayathri-Machine-Learning-Intern-YBI/blob/main/Income_Prediction.ipynb\" target=\"_parent\"><img src=\"https://colab.research.google.com/assets/colab-badge.svg\" alt=\"Open In Colab\"/></a>"
      ]
    },
    {
      "cell_type": "markdown",
      "source": [
        "##YBI FOUNDATION 'MACHINE LEARNING INTERN'\n",
        "**Author**: Kannikanti Gayathri<br>\n",
        "**Batch**: 1st August<br>\n",
        "**Project3: Income Prediction on Adult Salary dataset**<br>\n",
        "Dataset Link:  https://raw.githubusercontent.com/ybifoundation/Dataset/main/Adult%20Salary.csv\n"
      ],
      "metadata": {
        "id": "RXdTDwcG6qdm"
      }
    },
    {
      "cell_type": "markdown",
      "source": [
        "#Importing Libraries"
      ],
      "metadata": {
        "id": "W6jZDamW67Qi"
      }
    },
    {
      "cell_type": "code",
      "execution_count": 2,
      "metadata": {
        "id": "3ztwd7PDwCNp"
      },
      "outputs": [],
      "source": [
        "import pandas as pd\n",
        "import numpy as np"
      ]
    },
    {
      "cell_type": "markdown",
      "source": [
        "#Reading the data from csv file"
      ],
      "metadata": {
        "id": "M3MKwze07ANc"
      }
    },
    {
      "cell_type": "code",
      "execution_count": 3,
      "metadata": {
        "id": "QH4sSZnfwOXn"
      },
      "outputs": [],
      "source": [
        "data = pd.read_csv('https://raw.githubusercontent.com/ybifoundation/Dataset/main/Adult%20Salary.csv')"
      ]
    },
    {
      "cell_type": "code",
      "execution_count": 4,
      "metadata": {
        "colab": {
          "base_uri": "https://localhost:8080/"
        },
        "id": "SVXDfOH7wajl",
        "outputId": "9885659f-4596-4525-b020-dc9b25b52fc3"
      },
      "outputs": [
        {
          "output_type": "execute_result",
          "data": {
            "text/plain": [
              "Index(['Age', 'Gender', 'WorkingClass', 'Education', 'MaritalStatus',\n",
              "       'Occupation', 'Relationship', 'Race', 'NativeCountry', 'Income'],\n",
              "      dtype='object')"
            ]
          },
          "metadata": {},
          "execution_count": 4
        }
      ],
      "source": [
        "data.columns"
      ]
    },
    {
      "cell_type": "code",
      "execution_count": 5,
      "metadata": {
        "colab": {
          "base_uri": "https://localhost:8080/",
          "height": 206
        },
        "id": "3zNzMBLL7xd0",
        "outputId": "efb7cc2b-05cb-4a41-e4ad-bea444faed13"
      },
      "outputs": [
        {
          "output_type": "execute_result",
          "data": {
            "text/plain": [
              "   Age  Gender WorkingClass     Education       MaritalStatus  \\\n",
              "0   25    Male      Private          11th       Never-married   \n",
              "1   38    Male      Private       HS-grad  Married-civ-spouse   \n",
              "2   28    Male    Local-gov    Assoc-acdm  Married-civ-spouse   \n",
              "3   44    Male      Private  Some-college  Married-civ-spouse   \n",
              "4   18  Female            ?  Some-college       Never-married   \n",
              "\n",
              "          Occupation Relationship   Race  NativeCountry Income  \n",
              "0  Machine-op-inspct    Own-child  Black  United-States  <=50K  \n",
              "1    Farming-fishing      Husband  White  United-States  <=50K  \n",
              "2    Protective-serv      Husband  White  United-States   >50K  \n",
              "3  Machine-op-inspct      Husband  Black  United-States   >50K  \n",
              "4                  ?    Own-child  White  United-States  <=50K  "
            ],
            "text/html": [
              "\n",
              "  <div id=\"df-00d5041a-8e20-4820-a052-957c0b0cd80c\">\n",
              "    <div class=\"colab-df-container\">\n",
              "      <div>\n",
              "<style scoped>\n",
              "    .dataframe tbody tr th:only-of-type {\n",
              "        vertical-align: middle;\n",
              "    }\n",
              "\n",
              "    .dataframe tbody tr th {\n",
              "        vertical-align: top;\n",
              "    }\n",
              "\n",
              "    .dataframe thead th {\n",
              "        text-align: right;\n",
              "    }\n",
              "</style>\n",
              "<table border=\"1\" class=\"dataframe\">\n",
              "  <thead>\n",
              "    <tr style=\"text-align: right;\">\n",
              "      <th></th>\n",
              "      <th>Age</th>\n",
              "      <th>Gender</th>\n",
              "      <th>WorkingClass</th>\n",
              "      <th>Education</th>\n",
              "      <th>MaritalStatus</th>\n",
              "      <th>Occupation</th>\n",
              "      <th>Relationship</th>\n",
              "      <th>Race</th>\n",
              "      <th>NativeCountry</th>\n",
              "      <th>Income</th>\n",
              "    </tr>\n",
              "  </thead>\n",
              "  <tbody>\n",
              "    <tr>\n",
              "      <th>0</th>\n",
              "      <td>25</td>\n",
              "      <td>Male</td>\n",
              "      <td>Private</td>\n",
              "      <td>11th</td>\n",
              "      <td>Never-married</td>\n",
              "      <td>Machine-op-inspct</td>\n",
              "      <td>Own-child</td>\n",
              "      <td>Black</td>\n",
              "      <td>United-States</td>\n",
              "      <td>&lt;=50K</td>\n",
              "    </tr>\n",
              "    <tr>\n",
              "      <th>1</th>\n",
              "      <td>38</td>\n",
              "      <td>Male</td>\n",
              "      <td>Private</td>\n",
              "      <td>HS-grad</td>\n",
              "      <td>Married-civ-spouse</td>\n",
              "      <td>Farming-fishing</td>\n",
              "      <td>Husband</td>\n",
              "      <td>White</td>\n",
              "      <td>United-States</td>\n",
              "      <td>&lt;=50K</td>\n",
              "    </tr>\n",
              "    <tr>\n",
              "      <th>2</th>\n",
              "      <td>28</td>\n",
              "      <td>Male</td>\n",
              "      <td>Local-gov</td>\n",
              "      <td>Assoc-acdm</td>\n",
              "      <td>Married-civ-spouse</td>\n",
              "      <td>Protective-serv</td>\n",
              "      <td>Husband</td>\n",
              "      <td>White</td>\n",
              "      <td>United-States</td>\n",
              "      <td>&gt;50K</td>\n",
              "    </tr>\n",
              "    <tr>\n",
              "      <th>3</th>\n",
              "      <td>44</td>\n",
              "      <td>Male</td>\n",
              "      <td>Private</td>\n",
              "      <td>Some-college</td>\n",
              "      <td>Married-civ-spouse</td>\n",
              "      <td>Machine-op-inspct</td>\n",
              "      <td>Husband</td>\n",
              "      <td>Black</td>\n",
              "      <td>United-States</td>\n",
              "      <td>&gt;50K</td>\n",
              "    </tr>\n",
              "    <tr>\n",
              "      <th>4</th>\n",
              "      <td>18</td>\n",
              "      <td>Female</td>\n",
              "      <td>?</td>\n",
              "      <td>Some-college</td>\n",
              "      <td>Never-married</td>\n",
              "      <td>?</td>\n",
              "      <td>Own-child</td>\n",
              "      <td>White</td>\n",
              "      <td>United-States</td>\n",
              "      <td>&lt;=50K</td>\n",
              "    </tr>\n",
              "  </tbody>\n",
              "</table>\n",
              "</div>\n",
              "      <button class=\"colab-df-convert\" onclick=\"convertToInteractive('df-00d5041a-8e20-4820-a052-957c0b0cd80c')\"\n",
              "              title=\"Convert this dataframe to an interactive table.\"\n",
              "              style=\"display:none;\">\n",
              "        \n",
              "  <svg xmlns=\"http://www.w3.org/2000/svg\" height=\"24px\"viewBox=\"0 0 24 24\"\n",
              "       width=\"24px\">\n",
              "    <path d=\"M0 0h24v24H0V0z\" fill=\"none\"/>\n",
              "    <path d=\"M18.56 5.44l.94 2.06.94-2.06 2.06-.94-2.06-.94-.94-2.06-.94 2.06-2.06.94zm-11 1L8.5 8.5l.94-2.06 2.06-.94-2.06-.94L8.5 2.5l-.94 2.06-2.06.94zm10 10l.94 2.06.94-2.06 2.06-.94-2.06-.94-.94-2.06-.94 2.06-2.06.94z\"/><path d=\"M17.41 7.96l-1.37-1.37c-.4-.4-.92-.59-1.43-.59-.52 0-1.04.2-1.43.59L10.3 9.45l-7.72 7.72c-.78.78-.78 2.05 0 2.83L4 21.41c.39.39.9.59 1.41.59.51 0 1.02-.2 1.41-.59l7.78-7.78 2.81-2.81c.8-.78.8-2.07 0-2.86zM5.41 20L4 18.59l7.72-7.72 1.47 1.35L5.41 20z\"/>\n",
              "  </svg>\n",
              "      </button>\n",
              "      \n",
              "  <style>\n",
              "    .colab-df-container {\n",
              "      display:flex;\n",
              "      flex-wrap:wrap;\n",
              "      gap: 12px;\n",
              "    }\n",
              "\n",
              "    .colab-df-convert {\n",
              "      background-color: #E8F0FE;\n",
              "      border: none;\n",
              "      border-radius: 50%;\n",
              "      cursor: pointer;\n",
              "      display: none;\n",
              "      fill: #1967D2;\n",
              "      height: 32px;\n",
              "      padding: 0 0 0 0;\n",
              "      width: 32px;\n",
              "    }\n",
              "\n",
              "    .colab-df-convert:hover {\n",
              "      background-color: #E2EBFA;\n",
              "      box-shadow: 0px 1px 2px rgba(60, 64, 67, 0.3), 0px 1px 3px 1px rgba(60, 64, 67, 0.15);\n",
              "      fill: #174EA6;\n",
              "    }\n",
              "\n",
              "    [theme=dark] .colab-df-convert {\n",
              "      background-color: #3B4455;\n",
              "      fill: #D2E3FC;\n",
              "    }\n",
              "\n",
              "    [theme=dark] .colab-df-convert:hover {\n",
              "      background-color: #434B5C;\n",
              "      box-shadow: 0px 1px 3px 1px rgba(0, 0, 0, 0.15);\n",
              "      filter: drop-shadow(0px 1px 2px rgba(0, 0, 0, 0.3));\n",
              "      fill: #FFFFFF;\n",
              "    }\n",
              "  </style>\n",
              "\n",
              "      <script>\n",
              "        const buttonEl =\n",
              "          document.querySelector('#df-00d5041a-8e20-4820-a052-957c0b0cd80c button.colab-df-convert');\n",
              "        buttonEl.style.display =\n",
              "          google.colab.kernel.accessAllowed ? 'block' : 'none';\n",
              "\n",
              "        async function convertToInteractive(key) {\n",
              "          const element = document.querySelector('#df-00d5041a-8e20-4820-a052-957c0b0cd80c');\n",
              "          const dataTable =\n",
              "            await google.colab.kernel.invokeFunction('convertToInteractive',\n",
              "                                                     [key], {});\n",
              "          if (!dataTable) return;\n",
              "\n",
              "          const docLinkHtml = 'Like what you see? Visit the ' +\n",
              "            '<a target=\"_blank\" href=https://colab.research.google.com/notebooks/data_table.ipynb>data table notebook</a>'\n",
              "            + ' to learn more about interactive tables.';\n",
              "          element.innerHTML = '';\n",
              "          dataTable['output_type'] = 'display_data';\n",
              "          await google.colab.output.renderOutput(dataTable, element);\n",
              "          const docLink = document.createElement('div');\n",
              "          docLink.innerHTML = docLinkHtml;\n",
              "          element.appendChild(docLink);\n",
              "        }\n",
              "      </script>\n",
              "    </div>\n",
              "  </div>\n",
              "  "
            ]
          },
          "metadata": {},
          "execution_count": 5
        }
      ],
      "source": [
        "data.head()"
      ]
    },
    {
      "cell_type": "code",
      "source": [
        "data[\"Gender\"]=data[\"Gender\"].map({\"Male\":0,\"Female\":1})"
      ],
      "metadata": {
        "id": "JzQEAgVMtHKD"
      },
      "execution_count": 6,
      "outputs": []
    },
    {
      "cell_type": "markdown",
      "source": [
        "#Checking for Null values"
      ],
      "metadata": {
        "id": "fj5T8Awd7N3g"
      }
    },
    {
      "cell_type": "code",
      "source": [
        "data = data[data[\"WorkingClass\"] != \"?\"]\n",
        "data = data[data[\"Occupation\"] != \"?\"]\n",
        "data = data[data[\"NativeCountry\"] != \"?\"]\n",
        "\n",
        "data.shape"
      ],
      "metadata": {
        "colab": {
          "base_uri": "https://localhost:8080/"
        },
        "id": "_qybIatYuEQe",
        "outputId": "9195f937-acbe-4d68-c631-536cff68a176"
      },
      "execution_count": 7,
      "outputs": [
        {
          "output_type": "execute_result",
          "data": {
            "text/plain": [
              "(45222, 10)"
            ]
          },
          "metadata": {},
          "execution_count": 7
        }
      ]
    },
    {
      "cell_type": "code",
      "source": [
        "# frequency for categorical fields \n",
        "category_col =['Age', 'Gender', 'WorkingClass', 'Education', 'MaritalStatus',\n",
        "       'Occupation', 'Relationship', 'Race', 'NativeCountry', 'Income'] \n",
        "for c in category_col:\n",
        "    print (c)\n",
        "    print (data[c].value_counts())"
      ],
      "metadata": {
        "id": "upTv5Byouiw8",
        "outputId": "a3362f7f-922c-433a-b5f0-928cb0febd0b",
        "colab": {
          "base_uri": "https://localhost:8080/"
        }
      },
      "execution_count": 8,
      "outputs": [
        {
          "output_type": "stream",
          "name": "stdout",
          "text": [
            "Age\n",
            "36    1283\n",
            "33    1279\n",
            "31    1274\n",
            "35    1272\n",
            "23    1241\n",
            "      ... \n",
            "85       5\n",
            "88       5\n",
            "89       1\n",
            "87       1\n",
            "86       1\n",
            "Name: Age, Length: 74, dtype: int64\n",
            "Gender\n",
            "0    30527\n",
            "1    14695\n",
            "Name: Gender, dtype: int64\n",
            "WorkingClass\n",
            "Private             33307\n",
            "Self-emp-not-inc     3796\n",
            "Local-gov            3100\n",
            "State-gov            1946\n",
            "Self-emp-inc         1646\n",
            "Federal-gov          1406\n",
            "Without-pay            21\n",
            "Name: WorkingClass, dtype: int64\n",
            "Education\n",
            "HS-grad         14783\n",
            "Some-college     9899\n",
            "Bachelors        7570\n",
            "Masters          2514\n",
            "Assoc-voc        1959\n",
            "11th             1619\n",
            "Assoc-acdm       1507\n",
            "10th             1223\n",
            "7th-8th           823\n",
            "Prof-school       785\n",
            "9th               676\n",
            "12th              577\n",
            "Doctorate         544\n",
            "5th-6th           449\n",
            "1st-4th           222\n",
            "Preschool          72\n",
            "Name: Education, dtype: int64\n",
            "MaritalStatus\n",
            "Married-civ-spouse       21055\n",
            "Never-married            14598\n",
            "Divorced                  6297\n",
            "Separated                 1411\n",
            "Widowed                   1277\n",
            "Married-spouse-absent      552\n",
            "Married-AF-spouse           32\n",
            "Name: MaritalStatus, dtype: int64\n",
            "Occupation\n",
            "Craft-repair         6020\n",
            "Prof-specialty       6008\n",
            "Exec-managerial      5984\n",
            "Adm-clerical         5540\n",
            "Sales                5408\n",
            "Other-service        4808\n",
            "Machine-op-inspct    2970\n",
            "Transport-moving     2316\n",
            "Handlers-cleaners    2046\n",
            "Farming-fishing      1480\n",
            "Tech-support         1420\n",
            "Protective-serv       976\n",
            "Priv-house-serv       232\n",
            "Armed-Forces           14\n",
            "Name: Occupation, dtype: int64\n",
            "Relationship\n",
            "Husband           18666\n",
            "Not-in-family     11702\n",
            "Own-child          6626\n",
            "Unmarried          4788\n",
            "Wife               2091\n",
            "Other-relative     1349\n",
            "Name: Relationship, dtype: int64\n",
            "Race\n",
            "White                 38903\n",
            "Black                  4228\n",
            "Asian-Pac-Islander     1303\n",
            "Amer-Indian-Eskimo      435\n",
            "Other                   353\n",
            "Name: Race, dtype: int64\n",
            "NativeCountry\n",
            "United-States                 41292\n",
            "Mexico                          903\n",
            "Philippines                     283\n",
            "Germany                         193\n",
            "Puerto-Rico                     175\n",
            "Canada                          163\n",
            "El-Salvador                     147\n",
            "India                           147\n",
            "Cuba                            133\n",
            "England                         119\n",
            "China                           113\n",
            "Jamaica                         103\n",
            "South                           101\n",
            "Italy                           100\n",
            "Dominican-Republic               97\n",
            "Japan                            89\n",
            "Guatemala                        86\n",
            "Vietnam                          83\n",
            "Columbia                         82\n",
            "Poland                           81\n",
            "Haiti                            69\n",
            "Portugal                         62\n",
            "Iran                             56\n",
            "Taiwan                           55\n",
            "Greece                           49\n",
            "Nicaragua                        48\n",
            "Peru                             45\n",
            "Ecuador                          43\n",
            "France                           36\n",
            "Ireland                          36\n",
            "Thailand                         29\n",
            "Hong                             28\n",
            "Cambodia                         26\n",
            "Trinadad&Tobago                  26\n",
            "Yugoslavia                       23\n",
            "Outlying-US(Guam-USVI-etc)       22\n",
            "Laos                             21\n",
            "Scotland                         20\n",
            "Honduras                         19\n",
            "Hungary                          18\n",
            "Holand-Netherlands                1\n",
            "Name: NativeCountry, dtype: int64\n",
            "Income\n",
            "<=50K    34014\n",
            ">50K     11208\n",
            "Name: Income, dtype: int64\n"
          ]
        }
      ]
    },
    {
      "cell_type": "code",
      "source": [
        "import seaborn as sns\n",
        "import matplotlib.pyplot as plt\n",
        "ax = sns.countplot(data['MaritalStatus'], hue=data['Income'])\n",
        "ax.set_xticklabels(ax.get_xticklabels(), rotation=40, ha=\"right\")\n",
        "plt.tight_layout()"
      ],
      "metadata": {
        "colab": {
          "base_uri": "https://localhost:8080/",
          "height": 352
        },
        "id": "xxVRmyCn7zuM",
        "outputId": "da746409-2339-427c-d37f-60c4c1294bbb"
      },
      "execution_count": 11,
      "outputs": [
        {
          "output_type": "stream",
          "name": "stderr",
          "text": [
            "/usr/local/lib/python3.7/dist-packages/seaborn/_decorators.py:43: FutureWarning: Pass the following variable as a keyword arg: x. From version 0.12, the only valid positional argument will be `data`, and passing other arguments without an explicit keyword will result in an error or misinterpretation.\n",
            "  FutureWarning\n"
          ]
        },
        {
          "output_type": "display_data",
          "data": {
            "text/plain": [
              "<Figure size 432x288 with 1 Axes>"
            ],
            "image/png": "[encoded data removed]"
          },
          "metadata": {
            "needs_background": "light"
          }
        }
      ]
    },
    {
      "cell_type": "markdown",
      "source": [
        "#Converting marital status to 2 categories\n",
        "It seems better to reduce the number of categories for marital status to better visualize the effect of marital status on income. We need to convert the following into 2 distinct categories namely, \"married\" and \"not married\""
      ],
      "metadata": {
        "id": "zA6vuThj7hKt"
      }
    },
    {
      "cell_type": "code",
      "source": [
        "data.replace(['Divorced', 'Married-AF-spouse', \n",
        "              'Married-civ-spouse', 'Married-spouse-absent', \n",
        "              'Never-married','Separated','Widowed'],\n",
        "             ['not married','married','married','married',\n",
        "              'not married','not married','not married'], inplace = True)"
      ],
      "metadata": {
        "id": "bDoLxU1hugAJ"
      },
      "execution_count": 12,
      "outputs": []
    },
    {
      "cell_type": "code",
      "source": [
        "for col in category_col:\n",
        "    b, c = np.unique(data[col], return_inverse=True) \n",
        "    data[col] = c\n",
        "\n",
        "data.head()"
      ],
      "metadata": {
        "colab": {
          "base_uri": "https://localhost:8080/",
          "height": 206
        },
        "id": "pnxghvZxhRuy",
        "outputId": "5e5b7ef4-d5c5-4b73-950a-e19c0e5fc98a"
      },
      "execution_count": 13,
      "outputs": [
        {
          "output_type": "execute_result",
          "data": {
            "text/plain": [
              "   Age  Gender  WorkingClass  Education  MaritalStatus  Occupation  \\\n",
              "0    8       0             2          1              1           6   \n",
              "1   21       0             2         11              0           4   \n",
              "2   11       0             1          7              0          10   \n",
              "3   27       0             2         15              0           6   \n",
              "5   17       0             2          0              1           7   \n",
              "\n",
              "   Relationship  Race  NativeCountry  Income  \n",
              "0             3     2             38       0  \n",
              "1             0     4             38       0  \n",
              "2             0     4             38       1  \n",
              "3             0     2             38       1  \n",
              "5             1     4             38       0  "
            ],
            "text/html": [
              "\n",
              "  <div id=\"df-da333eb0-2af1-467c-a6e2-b013de83683a\">\n",
              "    <div class=\"colab-df-container\">\n",
              "      <div>\n",
              "<style scoped>\n",
              "    .dataframe tbody tr th:only-of-type {\n",
              "        vertical-align: middle;\n",
              "    }\n",
              "\n",
              "    .dataframe tbody tr th {\n",
              "        vertical-align: top;\n",
              "    }\n",
              "\n",
              "    .dataframe thead th {\n",
              "        text-align: right;\n",
              "    }\n",
              "</style>\n",
              "<table border=\"1\" class=\"dataframe\">\n",
              "  <thead>\n",
              "    <tr style=\"text-align: right;\">\n",
              "      <th></th>\n",
              "      <th>Age</th>\n",
              "      <th>Gender</th>\n",
              "      <th>WorkingClass</th>\n",
              "      <th>Education</th>\n",
              "      <th>MaritalStatus</th>\n",
              "      <th>Occupation</th>\n",
              "      <th>Relationship</th>\n",
              "      <th>Race</th>\n",
              "      <th>NativeCountry</th>\n",
              "      <th>Income</th>\n",
              "    </tr>\n",
              "  </thead>\n",
              "  <tbody>\n",
              "    <tr>\n",
              "      <th>0</th>\n",
              "      <td>8</td>\n",
              "      <td>0</td>\n",
              "      <td>2</td>\n",
              "      <td>1</td>\n",
              "      <td>1</td>\n",
              "      <td>6</td>\n",
              "      <td>3</td>\n",
              "      <td>2</td>\n",
              "      <td>38</td>\n",
              "      <td>0</td>\n",
              "    </tr>\n",
              "    <tr>\n",
              "      <th>1</th>\n",
              "      <td>21</td>\n",
              "      <td>0</td>\n",
              "      <td>2</td>\n",
              "      <td>11</td>\n",
              "      <td>0</td>\n",
              "      <td>4</td>\n",
              "      <td>0</td>\n",
              "      <td>4</td>\n",
              "      <td>38</td>\n",
              "      <td>0</td>\n",
              "    </tr>\n",
              "    <tr>\n",
              "      <th>2</th>\n",
              "      <td>11</td>\n",
              "      <td>0</td>\n",
              "      <td>1</td>\n",
              "      <td>7</td>\n",
              "      <td>0</td>\n",
              "      <td>10</td>\n",
              "      <td>0</td>\n",
              "      <td>4</td>\n",
              "      <td>38</td>\n",
              "      <td>1</td>\n",
              "    </tr>\n",
              "    <tr>\n",
              "      <th>3</th>\n",
              "      <td>27</td>\n",
              "      <td>0</td>\n",
              "      <td>2</td>\n",
              "      <td>15</td>\n",
              "      <td>0</td>\n",
              "      <td>6</td>\n",
              "      <td>0</td>\n",
              "      <td>2</td>\n",
              "      <td>38</td>\n",
              "      <td>1</td>\n",
              "    </tr>\n",
              "    <tr>\n",
              "      <th>5</th>\n",
              "      <td>17</td>\n",
              "      <td>0</td>\n",
              "      <td>2</td>\n",
              "      <td>0</td>\n",
              "      <td>1</td>\n",
              "      <td>7</td>\n",
              "      <td>1</td>\n",
              "      <td>4</td>\n",
              "      <td>38</td>\n",
              "      <td>0</td>\n",
              "    </tr>\n",
              "  </tbody>\n",
              "</table>\n",
              "</div>\n",
              "      <button class=\"colab-df-convert\" onclick=\"convertToInteractive('df-da333eb0-2af1-467c-a6e2-b013de83683a')\"\n",
              "              title=\"Convert this dataframe to an interactive table.\"\n",
              "              style=\"display:none;\">\n",
              "        \n",
              "  <svg xmlns=\"http://www.w3.org/2000/svg\" height=\"24px\"viewBox=\"0 0 24 24\"\n",
              "       width=\"24px\">\n",
              "    <path d=\"M0 0h24v24H0V0z\" fill=\"none\"/>\n",
              "    <path d=\"M18.56 5.44l.94 2.06.94-2.06 2.06-.94-2.06-.94-.94-2.06-.94 2.06-2.06.94zm-11 1L8.5 8.5l.94-2.06 2.06-.94-2.06-.94L8.5 2.5l-.94 2.06-2.06.94zm10 10l.94 2.06.94-2.06 2.06-.94-2.06-.94-.94-2.06-.94 2.06-2.06.94z\"/><path d=\"M17.41 7.96l-1.37-1.37c-.4-.4-.92-.59-1.43-.59-.52 0-1.04.2-1.43.59L10.3 9.45l-7.72 7.72c-.78.78-.78 2.05 0 2.83L4 21.41c.39.39.9.59 1.41.59.51 0 1.02-.2 1.41-.59l7.78-7.78 2.81-2.81c.8-.78.8-2.07 0-2.86zM5.41 20L4 18.59l7.72-7.72 1.47 1.35L5.41 20z\"/>\n",
              "  </svg>\n",
              "      </button>\n",
              "      \n",
              "  <style>\n",
              "    .colab-df-container {\n",
              "      display:flex;\n",
              "      flex-wrap:wrap;\n",
              "      gap: 12px;\n",
              "    }\n",
              "\n",
              "    .colab-df-convert {\n",
              "      background-color: #E8F0FE;\n",
              "      border: none;\n",
              "      border-radius: 50%;\n",
              "      cursor: pointer;\n",
              "      display: none;\n",
              "      fill: #1967D2;\n",
              "      height: 32px;\n",
              "      padding: 0 0 0 0;\n",
              "      width: 32px;\n",
              "    }\n",
              "\n",
              "    .colab-df-convert:hover {\n",
              "      background-color: #E2EBFA;\n",
              "      box-shadow: 0px 1px 2px rgba(60, 64, 67, 0.3), 0px 1px 3px 1px rgba(60, 64, 67, 0.15);\n",
              "      fill: #174EA6;\n",
              "    }\n",
              "\n",
              "    [theme=dark] .colab-df-convert {\n",
              "      background-color: #3B4455;\n",
              "      fill: #D2E3FC;\n",
              "    }\n",
              "\n",
              "    [theme=dark] .colab-df-convert:hover {\n",
              "      background-color: #434B5C;\n",
              "      box-shadow: 0px 1px 3px 1px rgba(0, 0, 0, 0.15);\n",
              "      filter: drop-shadow(0px 1px 2px rgba(0, 0, 0, 0.3));\n",
              "      fill: #FFFFFF;\n",
              "    }\n",
              "  </style>\n",
              "\n",
              "      <script>\n",
              "        const buttonEl =\n",
              "          document.querySelector('#df-da333eb0-2af1-467c-a6e2-b013de83683a button.colab-df-convert');\n",
              "        buttonEl.style.display =\n",
              "          google.colab.kernel.accessAllowed ? 'block' : 'none';\n",
              "\n",
              "        async function convertToInteractive(key) {\n",
              "          const element = document.querySelector('#df-da333eb0-2af1-467c-a6e2-b013de83683a');\n",
              "          const dataTable =\n",
              "            await google.colab.kernel.invokeFunction('convertToInteractive',\n",
              "                                                     [key], {});\n",
              "          if (!dataTable) return;\n",
              "\n",
              "          const docLinkHtml = 'Like what you see? Visit the ' +\n",
              "            '<a target=\"_blank\" href=https://colab.research.google.com/notebooks/data_table.ipynb>data table notebook</a>'\n",
              "            + ' to learn more about interactive tables.';\n",
              "          element.innerHTML = '';\n",
              "          dataTable['output_type'] = 'display_data';\n",
              "          await google.colab.output.renderOutput(dataTable, element);\n",
              "          const docLink = document.createElement('div');\n",
              "          docLink.innerHTML = docLinkHtml;\n",
              "          element.appendChild(docLink);\n",
              "        }\n",
              "      </script>\n",
              "    </div>\n",
              "  </div>\n",
              "  "
            ]
          },
          "metadata": {},
          "execution_count": 13
        }
      ]
    },
    {
      "cell_type": "code",
      "source": [
        "from scipy.stats import pointbiserialr, spearmanr\n",
        "col_names = data.columns\n",
        "param=[]\n",
        "correlation=[]\n",
        "abs_corr=[]\n",
        "\n",
        "for c in col_names:\n",
        "    #Check if binary or continuous\n",
        "    if c != \"Income\":\n",
        "        if len(data[c].unique()) <= 2:\n",
        "            corr = spearmanr(data['Income'],data[c])[0]\n",
        "        else:\n",
        "            corr = pointbiserialr(data['Income'],data[c])[0]\n",
        "        param.append(c)\n",
        "        correlation.append(corr)\n",
        "        abs_corr.append(abs(corr))\n",
        "\n",
        "#Create dataframe for visualization\n",
        "param_df=pd.DataFrame({'correlation':correlation,'parameter':param, 'abs_corr':abs_corr})\n",
        "\n",
        "#Sort by absolute correlation\n",
        "param_df=param_df.sort_values(by=['abs_corr'], ascending=False)\n",
        "\n",
        "#Set parameter name as index\n",
        "param_df=param_df.set_index('parameter')\n",
        "\n",
        "param_df"
      ],
      "metadata": {
        "colab": {
          "base_uri": "https://localhost:8080/",
          "height": 363
        },
        "id": "qmupLdRBhbq4",
        "outputId": "dd5469c5-2f11-4ce5-a5f1-d13cf7f48b8c"
      },
      "execution_count": null,
      "outputs": [
        {
          "output_type": "execute_result",
          "data": {
            "text/plain": [
              "               correlation  abs_corr\n",
              "parameter                           \n",
              "MaritalStatus    -0.437678  0.437678\n",
              "Relationship     -0.253402  0.253402\n",
              "Age               0.237040  0.237040\n",
              "Gender           -0.215760  0.215760\n",
              "Education         0.081196  0.081196\n",
              "Race              0.070844  0.070844\n",
              "Occupation        0.049787  0.049787\n",
              "NativeCountry     0.020103  0.020103\n",
              "WorkingClass      0.015659  0.015659"
            ],
            "text/html": [
              "\n",
              "  <div id=\"df-aa348cd0-ebb8-4fb0-af5c-d5d7890a7071\">\n",
              "    <div class=\"colab-df-container\">\n",
              "      <div>\n",
              "<style scoped>\n",
              "    .dataframe tbody tr th:only-of-type {\n",
              "        vertical-align: middle;\n",
              "    }\n",
              "\n",
              "    .dataframe tbody tr th {\n",
              "        vertical-align: top;\n",
              "    }\n",
              "\n",
              "    .dataframe thead th {\n",
              "        text-align: right;\n",
              "    }\n",
              "</style>\n",
              "<table border=\"1\" class=\"dataframe\">\n",
              "  <thead>\n",
              "    <tr style=\"text-align: right;\">\n",
              "      <th></th>\n",
              "      <th>correlation</th>\n",
              "      <th>abs_corr</th>\n",
              "    </tr>\n",
              "    <tr>\n",
              "      <th>parameter</th>\n",
              "      <th></th>\n",
              "      <th></th>\n",
              "    </tr>\n",
              "  </thead>\n",
              "  <tbody>\n",
              "    <tr>\n",
              "      <th>MaritalStatus</th>\n",
              "      <td>-0.437678</td>\n",
              "      <td>0.437678</td>\n",
              "    </tr>\n",
              "    <tr>\n",
              "      <th>Relationship</th>\n",
              "      <td>-0.253402</td>\n",
              "      <td>0.253402</td>\n",
              "    </tr>\n",
              "    <tr>\n",
              "      <th>Age</th>\n",
              "      <td>0.237040</td>\n",
              "      <td>0.237040</td>\n",
              "    </tr>\n",
              "    <tr>\n",
              "      <th>Gender</th>\n",
              "      <td>-0.215760</td>\n",
              "      <td>0.215760</td>\n",
              "    </tr>\n",
              "    <tr>\n",
              "      <th>Education</th>\n",
              "      <td>0.081196</td>\n",
              "      <td>0.081196</td>\n",
              "    </tr>\n",
              "    <tr>\n",
              "      <th>Race</th>\n",
              "      <td>0.070844</td>\n",
              "      <td>0.070844</td>\n",
              "    </tr>\n",
              "    <tr>\n",
              "      <th>Occupation</th>\n",
              "      <td>0.049787</td>\n",
              "      <td>0.049787</td>\n",
              "    </tr>\n",
              "    <tr>\n",
              "      <th>NativeCountry</th>\n",
              "      <td>0.020103</td>\n",
              "      <td>0.020103</td>\n",
              "    </tr>\n",
              "    <tr>\n",
              "      <th>WorkingClass</th>\n",
              "      <td>0.015659</td>\n",
              "      <td>0.015659</td>\n",
              "    </tr>\n",
              "  </tbody>\n",
              "</table>\n",
              "</div>\n",
              "      <button class=\"colab-df-convert\" onclick=\"convertToInteractive('df-aa348cd0-ebb8-4fb0-af5c-d5d7890a7071')\"\n",
              "              title=\"Convert this dataframe to an interactive table.\"\n",
              "              style=\"display:none;\">\n",
              "        \n",
              "  <svg xmlns=\"http://www.w3.org/2000/svg\" height=\"24px\"viewBox=\"0 0 24 24\"\n",
              "       width=\"24px\">\n",
              "    <path d=\"M0 0h24v24H0V0z\" fill=\"none\"/>\n",
              "    <path d=\"M18.56 5.44l.94 2.06.94-2.06 2.06-.94-2.06-.94-.94-2.06-.94 2.06-2.06.94zm-11 1L8.5 8.5l.94-2.06 2.06-.94-2.06-.94L8.5 2.5l-.94 2.06-2.06.94zm10 10l.94 2.06.94-2.06 2.06-.94-2.06-.94-.94-2.06-.94 2.06-2.06.94z\"/><path d=\"M17.41 7.96l-1.37-1.37c-.4-.4-.92-.59-1.43-.59-.52 0-1.04.2-1.43.59L10.3 9.45l-7.72 7.72c-.78.78-.78 2.05 0 2.83L4 21.41c.39.39.9.59 1.41.59.51 0 1.02-.2 1.41-.59l7.78-7.78 2.81-2.81c.8-.78.8-2.07 0-2.86zM5.41 20L4 18.59l7.72-7.72 1.47 1.35L5.41 20z\"/>\n",
              "  </svg>\n",
              "      </button>\n",
              "      \n",
              "  <style>\n",
              "    .colab-df-container {\n",
              "      display:flex;\n",
              "      flex-wrap:wrap;\n",
              "      gap: 12px;\n",
              "    }\n",
              "\n",
              "    .colab-df-convert {\n",
              "      background-color: #E8F0FE;\n",
              "      border: none;\n",
              "      border-radius: 50%;\n",
              "      cursor: pointer;\n",
              "      display: none;\n",
              "      fill: #1967D2;\n",
              "      height: 32px;\n",
              "      padding: 0 0 0 0;\n",
              "      width: 32px;\n",
              "    }\n",
              "\n",
              "    .colab-df-convert:hover {\n",
              "      background-color: #E2EBFA;\n",
              "      box-shadow: 0px 1px 2px rgba(60, 64, 67, 0.3), 0px 1px 3px 1px rgba(60, 64, 67, 0.15);\n",
              "      fill: #174EA6;\n",
              "    }\n",
              "\n",
              "    [theme=dark] .colab-df-convert {\n",
              "      background-color: #3B4455;\n",
              "      fill: #D2E3FC;\n",
              "    }\n",
              "\n",
              "    [theme=dark] .colab-df-convert:hover {\n",
              "      background-color: #434B5C;\n",
              "      box-shadow: 0px 1px 3px 1px rgba(0, 0, 0, 0.15);\n",
              "      filter: drop-shadow(0px 1px 2px rgba(0, 0, 0, 0.3));\n",
              "      fill: #FFFFFF;\n",
              "    }\n",
              "  </style>\n",
              "\n",
              "      <script>\n",
              "        const buttonEl =\n",
              "          document.querySelector('#df-aa348cd0-ebb8-4fb0-af5c-d5d7890a7071 button.colab-df-convert');\n",
              "        buttonEl.style.display =\n",
              "          google.colab.kernel.accessAllowed ? 'block' : 'none';\n",
              "\n",
              "        async function convertToInteractive(key) {\n",
              "          const element = document.querySelector('#df-aa348cd0-ebb8-4fb0-af5c-d5d7890a7071');\n",
              "          const dataTable =\n",
              "            await google.colab.kernel.invokeFunction('convertToInteractive',\n",
              "                                                     [key], {});\n",
              "          if (!dataTable) return;\n",
              "\n",
              "          const docLinkHtml = 'Like what you see? Visit the ' +\n",
              "            '<a target=\"_blank\" href=https://colab.research.google.com/notebooks/data_table.ipynb>data table notebook</a>'\n",
              "            + ' to learn more about interactive tables.';\n",
              "          element.innerHTML = '';\n",
              "          dataTable['output_type'] = 'display_data';\n",
              "          await google.colab.output.renderOutput(dataTable, element);\n",
              "          const docLink = document.createElement('div');\n",
              "          docLink.innerHTML = docLinkHtml;\n",
              "          element.appendChild(docLink);\n",
              "        }\n",
              "      </script>\n",
              "    </div>\n",
              "  </div>\n",
              "  "
            ]
          },
          "metadata": {},
          "execution_count": 38
        }
      ]
    },
    {
      "cell_type": "markdown",
      "source": [
        "#Defining X and y "
      ],
      "metadata": {
        "id": "pD_61h2h8Oti"
      }
    },
    {
      "cell_type": "code",
      "execution_count": 14,
      "metadata": {
        "id": "nhIEai09wfT8"
      },
      "outputs": [],
      "source": [
        "X = data[['MaritalStatus','Relationship','Age', 'Gender',  'Education','Occupation']]"
      ]
    },
    {
      "cell_type": "code",
      "execution_count": 15,
      "metadata": {
        "id": "Y6iYhFCq8C0N"
      },
      "outputs": [],
      "source": [
        "y = data['Income']"
      ]
    },
    {
      "cell_type": "code",
      "source": [
        "from sklearn.model_selection import train_test_split\n",
        "x_train, x_test, y_train, y_test = train_test_split(X, y, test_size=0.3, random_state=2486)"
      ],
      "metadata": {
        "id": "lYr7pFOX8yTI"
      },
      "execution_count": 23,
      "outputs": []
    },
    {
      "cell_type": "markdown",
      "source": [
        "#1.Logistic Regression Model"
      ],
      "metadata": {
        "id": "JcuqtsjW8jHy"
      }
    },
    {
      "cell_type": "code",
      "source": [
        "from sklearn.linear_model import LogisticRegression\n",
        "model = LogisticRegression(max_iter = 200)"
      ],
      "metadata": {
        "id": "hlcUlMtbJFRX"
      },
      "execution_count": 24,
      "outputs": []
    },
    {
      "cell_type": "code",
      "source": [
        "model.fit(x_train,y_train)"
      ],
      "metadata": {
        "colab": {
          "base_uri": "https://localhost:8080/"
        },
        "id": "JR7kRiOVJTC2",
        "outputId": "5229fd82-d334-486c-e2f6-98c2b33ed6f6"
      },
      "execution_count": 25,
      "outputs": [
        {
          "output_type": "execute_result",
          "data": {
            "text/plain": [
              "LogisticRegression(max_iter=200)"
            ]
          },
          "metadata": {},
          "execution_count": 25
        }
      ]
    },
    {
      "cell_type": "code",
      "source": [
        "y_pred = model.predict(x_test)"
      ],
      "metadata": {
        "id": "F3OdqQRZLH30"
      },
      "execution_count": 26,
      "outputs": []
    },
    {
      "cell_type": "code",
      "source": [
        "from sklearn.metrics import accuracy_score\n",
        "accuracy_score(y_pred,y_test)"
      ],
      "metadata": {
        "colab": {
          "base_uri": "https://localhost:8080/"
        },
        "id": "WFprAd-zLMTk",
        "outputId": "4f81830e-e3cd-4f43-b906-f2f645a40268"
      },
      "execution_count": 27,
      "outputs": [
        {
          "output_type": "execute_result",
          "data": {
            "text/plain": [
              "0.7567627331023807"
            ]
          },
          "metadata": {},
          "execution_count": 27
        }
      ]
    },
    {
      "cell_type": "markdown",
      "source": [
        "#2. Random Forest Classifier"
      ],
      "metadata": {
        "id": "C3ewvMjU9CJQ"
      }
    },
    {
      "cell_type": "code",
      "source": [
        "from sklearn.ensemble import RandomForestClassifier\n",
        "clf = RandomForestClassifier(n_estimators=100, random_state=24)\n",
        "clf.fit(X_train, y_train)"
      ],
      "metadata": {
        "colab": {
          "base_uri": "https://localhost:8080/"
        },
        "id": "n8YiniNp9Jls",
        "outputId": "5d67e7a0-d47d-43dc-b39a-77ffe6546021"
      },
      "execution_count": 28,
      "outputs": [
        {
          "output_type": "execute_result",
          "data": {
            "text/plain": [
              "RandomForestClassifier(random_state=24)"
            ]
          },
          "metadata": {},
          "execution_count": 28
        }
      ]
    },
    {
      "cell_type": "markdown",
      "source": [
        "#Predicting and finding accuracy using Random Forest Classifier\n"
      ],
      "metadata": {
        "id": "3wImy-EY9PSf"
      }
    },
    {
      "cell_type": "code",
      "source": [
        "y_pred = clf.predict(X_test)\n",
        "from sklearn.metrics import accuracy_score\n",
        "#Checking the accuracy of the model\n",
        "score=accuracy_score(y_test,y_pred)\n",
        "print(\"Random Forest accuracy:\",score)"
      ],
      "metadata": {
        "colab": {
          "base_uri": "https://localhost:8080/"
        },
        "id": "IOf47xZU9Tb2",
        "outputId": "90876aa0-b243-48ae-9e73-f91f60bbe1a4"
      },
      "execution_count": 29,
      "outputs": [
        {
          "output_type": "stream",
          "name": "stdout",
          "text": [
            "Random Forest accuracy: 0.8064421021596521\n"
          ]
        }
      ]
    },
    {
      "cell_type": "markdown",
      "source": [
        "#Plotting confusion matrix"
      ],
      "metadata": {
        "id": "nHedbqSS9ZSj"
      }
    },
    {
      "cell_type": "code",
      "source": [
        "from sklearn.metrics import accuracy_score, plot_confusion_matrix, classification_report,confusion_matrix"
      ],
      "metadata": {
        "id": "nV1OBp-49WwD"
      },
      "execution_count": 30,
      "outputs": []
    },
    {
      "cell_type": "code",
      "source": [
        "def report(model):\n",
        "    preds=model.predict(X_test)\n",
        "    print(classification_report(preds,y_test))\n",
        "    plot_confusion_matrix(model,X_test,y_test,cmap='nipy_spectral',colorbar=True)"
      ],
      "metadata": {
        "id": "bVbbZ_R_9hYl"
      },
      "execution_count": 31,
      "outputs": []
    },
    {
      "cell_type": "code",
      "source": [
        "from matplotlib.markers import CARETLEFTBASE\n",
        "print('Random Forest Classifier')\n",
        "report(clf)\n",
        "print(f'Accuracy: {round(score*100,2)}%')\n"
      ],
      "metadata": {
        "colab": {
          "base_uri": "https://localhost:8080/",
          "height": 525
        },
        "id": "AioIfOCM9kCL",
        "outputId": "81ead4b8-2bce-42a8-9591-f2d857c94952"
      },
      "execution_count": 32,
      "outputs": [
        {
          "output_type": "stream",
          "name": "stdout",
          "text": [
            "Random Forest Classifier\n",
            "              precision    recall  f1-score   support\n",
            "\n",
            "           0       0.89      0.86      0.87     10459\n",
            "           1       0.57      0.63      0.60      3108\n",
            "\n",
            "    accuracy                           0.81     13567\n",
            "   macro avg       0.73      0.74      0.74     13567\n",
            "weighted avg       0.81      0.81      0.81     13567\n",
            "\n"
          ]
        },
        {
          "output_type": "stream",
          "name": "stderr",
          "text": [
            "/usr/local/lib/python3.7/dist-packages/sklearn/utils/deprecation.py:87: FutureWarning: Function plot_confusion_matrix is deprecated; Function `plot_confusion_matrix` is deprecated in 1.0 and will be removed in 1.2. Use one of the class methods: ConfusionMatrixDisplay.from_predictions or ConfusionMatrixDisplay.from_estimator.\n",
            "  warnings.warn(msg, category=FutureWarning)\n"
          ]
        },
        {
          "output_type": "stream",
          "name": "stdout",
          "text": [
            "Accuracy: 80.64%\n"
          ]
        },
        {
          "output_type": "display_data",
          "data": {
            "text/plain": [
              "<Figure size 432x288 with 2 Axes>"
            ],
            "image/png": "[encoded data removed]"
          },
          "metadata": {
            "needs_background": "light"
          }
        }
      ]
    },
    {
      "cell_type": "markdown",
      "source": [
        "**Random Forest Classifier is marginally better than Logistic Regression in terms of accuracy, it is the selected model.**\n",
        " "
      ],
      "metadata": {
        "id": "D58rddaY9sy-"
      }
    }
  ],
  "metadata": {
    "colab": {
      "provenance": [],
      "collapsed_sections": [],
      "authorship_tag": "ABX9TyOl8ZkkLt9D0y9J/JgDeAmi",
      "include_colab_link": true
    },
    "kernelspec": {
      "display_name": "Python 3",
      "name": "python3"
    },
    "language_info": {
      "name": "python"
    }
  },
  "nbformat": 4,
  "nbformat_minor": 0
}